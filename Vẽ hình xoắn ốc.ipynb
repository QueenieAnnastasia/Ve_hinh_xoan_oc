{
 "cells": [
  {
   "cell_type": "code",
   "execution_count": null,
   "id": "6d4957ff",
   "metadata": {},
   "outputs": [],
   "source": [
    "##Vòng lặp while\n",
    "## Vẽ đường xoắn ốc\n",
    "a = float(input(\"Bán kính tối đa cho phép: \"))\n",
    "\n",
    "import turtle\n",
    "t = turtle.Turtle()\n",
    "t.speed(10)\n",
    "d = 0\n",
    "\n",
    "toado_0 = t.distance(t)\n",
    "\n",
    "while True:\n",
    "    d+=0.1\n",
    "    for i in range(180):\n",
    "        t.fd(d)\n",
    "        t.lt(1)\n",
    "    if toado_0 >= a:\n",
    "        break"
   ]
  }
 ],
 "metadata": {
  "kernelspec": {
   "display_name": "Python 3 (ipykernel)",
   "language": "python",
   "name": "python3"
  },
  "language_info": {
   "codemirror_mode": {
    "name": "ipython",
    "version": 3
   },
   "file_extension": ".py",
   "mimetype": "text/x-python",
   "name": "python",
   "nbconvert_exporter": "python",
   "pygments_lexer": "ipython3",
   "version": "3.10.5"
  }
 },
 "nbformat": 4,
 "nbformat_minor": 5
}
